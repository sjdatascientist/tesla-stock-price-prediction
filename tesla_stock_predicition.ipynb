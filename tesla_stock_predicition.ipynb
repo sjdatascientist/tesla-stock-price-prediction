{
 "cells": [
  {
   "metadata": {},
   "cell_type": "markdown",
   "source": [
    "# TESLA STOCK PRICE PREDICTION\n",
    "\n",
    "---"
   ]
  },
  {
   "metadata": {},
   "cell_type": "markdown",
   "source": "<h4> Importing Libraries"
  },
  {
   "cell_type": "code",
   "metadata": {
    "collapsed": true,
    "ExecuteTime": {
     "end_time": "2024-07-05T02:48:31.953041Z",
     "start_time": "2024-07-05T02:48:26.492269Z"
    }
   },
   "source": [
    "import numpy as np\n",
    "import pandas as pd\n",
    "import matplotlib.pyplot as plt"
   ],
   "outputs": [],
   "execution_count": 1
  },
  {
   "metadata": {},
   "cell_type": "markdown",
   "source": "<h4> Reading Dataset"
  },
  {
   "cell_type": "code",
   "source": [
    "tesla = pd.read_csv('TSLA.csv')\n",
    "tesla"
   ],
   "metadata": {
    "collapsed": false,
    "ExecuteTime": {
     "end_time": "2024-07-05T02:48:32.203209Z",
     "start_time": "2024-07-05T02:48:31.959021Z"
    }
   },
   "outputs": [
    {
     "data": {
      "text/plain": [
       "            Date        Open        High         Low       Close   Adj Close  \\\n",
       "0     2010-06-29   19.000000   25.000000   17.540001   23.889999   23.889999   \n",
       "1     2010-06-30   25.790001   30.420000   23.299999   23.830000   23.830000   \n",
       "2     2010-07-01   25.000000   25.920000   20.270000   21.959999   21.959999   \n",
       "3     2010-07-02   23.000000   23.100000   18.709999   19.200001   19.200001   \n",
       "4     2010-07-06   20.000000   20.000000   15.830000   16.110001   16.110001   \n",
       "...          ...         ...         ...         ...         ...         ...   \n",
       "2411  2020-01-28  568.489990  576.809998  558.080017  566.900024  566.900024   \n",
       "2412  2020-01-29  575.690002  589.799988  567.429993  580.989990  580.989990   \n",
       "2413  2020-01-30  632.419983  650.880005  618.000000  640.809998  640.809998   \n",
       "2414  2020-01-31  640.000000  653.000000  632.520020  650.570007  650.570007   \n",
       "2415  2020-02-03  673.690002  786.140015  673.520020  780.000000  780.000000   \n",
       "\n",
       "        Volume  \n",
       "0     18766300  \n",
       "1     17187100  \n",
       "2      8218800  \n",
       "3      5139800  \n",
       "4      6866900  \n",
       "...        ...  \n",
       "2411  11788500  \n",
       "2412  17801500  \n",
       "2413  29005700  \n",
       "2414  15719300  \n",
       "2415  47065000  \n",
       "\n",
       "[2416 rows x 7 columns]"
      ],
      "text/html": [
       "<div>\n",
       "<style scoped>\n",
       "    .dataframe tbody tr th:only-of-type {\n",
       "        vertical-align: middle;\n",
       "    }\n",
       "\n",
       "    .dataframe tbody tr th {\n",
       "        vertical-align: top;\n",
       "    }\n",
       "\n",
       "    .dataframe thead th {\n",
       "        text-align: right;\n",
       "    }\n",
       "</style>\n",
       "<table border=\"1\" class=\"dataframe\">\n",
       "  <thead>\n",
       "    <tr style=\"text-align: right;\">\n",
       "      <th></th>\n",
       "      <th>Date</th>\n",
       "      <th>Open</th>\n",
       "      <th>High</th>\n",
       "      <th>Low</th>\n",
       "      <th>Close</th>\n",
       "      <th>Adj Close</th>\n",
       "      <th>Volume</th>\n",
       "    </tr>\n",
       "  </thead>\n",
       "  <tbody>\n",
       "    <tr>\n",
       "      <th>0</th>\n",
       "      <td>2010-06-29</td>\n",
       "      <td>19.000000</td>\n",
       "      <td>25.000000</td>\n",
       "      <td>17.540001</td>\n",
       "      <td>23.889999</td>\n",
       "      <td>23.889999</td>\n",
       "      <td>18766300</td>\n",
       "    </tr>\n",
       "    <tr>\n",
       "      <th>1</th>\n",
       "      <td>2010-06-30</td>\n",
       "      <td>25.790001</td>\n",
       "      <td>30.420000</td>\n",
       "      <td>23.299999</td>\n",
       "      <td>23.830000</td>\n",
       "      <td>23.830000</td>\n",
       "      <td>17187100</td>\n",
       "    </tr>\n",
       "    <tr>\n",
       "      <th>2</th>\n",
       "      <td>2010-07-01</td>\n",
       "      <td>25.000000</td>\n",
       "      <td>25.920000</td>\n",
       "      <td>20.270000</td>\n",
       "      <td>21.959999</td>\n",
       "      <td>21.959999</td>\n",
       "      <td>8218800</td>\n",
       "    </tr>\n",
       "    <tr>\n",
       "      <th>3</th>\n",
       "      <td>2010-07-02</td>\n",
       "      <td>23.000000</td>\n",
       "      <td>23.100000</td>\n",
       "      <td>18.709999</td>\n",
       "      <td>19.200001</td>\n",
       "      <td>19.200001</td>\n",
       "      <td>5139800</td>\n",
       "    </tr>\n",
       "    <tr>\n",
       "      <th>4</th>\n",
       "      <td>2010-07-06</td>\n",
       "      <td>20.000000</td>\n",
       "      <td>20.000000</td>\n",
       "      <td>15.830000</td>\n",
       "      <td>16.110001</td>\n",
       "      <td>16.110001</td>\n",
       "      <td>6866900</td>\n",
       "    </tr>\n",
       "    <tr>\n",
       "      <th>...</th>\n",
       "      <td>...</td>\n",
       "      <td>...</td>\n",
       "      <td>...</td>\n",
       "      <td>...</td>\n",
       "      <td>...</td>\n",
       "      <td>...</td>\n",
       "      <td>...</td>\n",
       "    </tr>\n",
       "    <tr>\n",
       "      <th>2411</th>\n",
       "      <td>2020-01-28</td>\n",
       "      <td>568.489990</td>\n",
       "      <td>576.809998</td>\n",
       "      <td>558.080017</td>\n",
       "      <td>566.900024</td>\n",
       "      <td>566.900024</td>\n",
       "      <td>11788500</td>\n",
       "    </tr>\n",
       "    <tr>\n",
       "      <th>2412</th>\n",
       "      <td>2020-01-29</td>\n",
       "      <td>575.690002</td>\n",
       "      <td>589.799988</td>\n",
       "      <td>567.429993</td>\n",
       "      <td>580.989990</td>\n",
       "      <td>580.989990</td>\n",
       "      <td>17801500</td>\n",
       "    </tr>\n",
       "    <tr>\n",
       "      <th>2413</th>\n",
       "      <td>2020-01-30</td>\n",
       "      <td>632.419983</td>\n",
       "      <td>650.880005</td>\n",
       "      <td>618.000000</td>\n",
       "      <td>640.809998</td>\n",
       "      <td>640.809998</td>\n",
       "      <td>29005700</td>\n",
       "    </tr>\n",
       "    <tr>\n",
       "      <th>2414</th>\n",
       "      <td>2020-01-31</td>\n",
       "      <td>640.000000</td>\n",
       "      <td>653.000000</td>\n",
       "      <td>632.520020</td>\n",
       "      <td>650.570007</td>\n",
       "      <td>650.570007</td>\n",
       "      <td>15719300</td>\n",
       "    </tr>\n",
       "    <tr>\n",
       "      <th>2415</th>\n",
       "      <td>2020-02-03</td>\n",
       "      <td>673.690002</td>\n",
       "      <td>786.140015</td>\n",
       "      <td>673.520020</td>\n",
       "      <td>780.000000</td>\n",
       "      <td>780.000000</td>\n",
       "      <td>47065000</td>\n",
       "    </tr>\n",
       "  </tbody>\n",
       "</table>\n",
       "<p>2416 rows × 7 columns</p>\n",
       "</div>"
      ]
     },
     "execution_count": 2,
     "metadata": {},
     "output_type": "execute_result"
    }
   ],
   "execution_count": 2
  },
  {
   "cell_type": "markdown",
   "source": [
    "Using `Open` col for prediction, and taking data **29 June 2010** to **31 Dec 2019**\n",
    "<h4> Splitting the Dataset "
   ],
   "metadata": {
    "collapsed": false
   }
  },
  {
   "cell_type": "code",
   "source": [
    "all_training_data, all_test_data = tesla.iloc[:2394], tesla.iloc[2394:]"
   ],
   "metadata": {
    "collapsed": false,
    "ExecuteTime": {
     "end_time": "2024-07-05T02:48:32.216171Z",
     "start_time": "2024-07-05T02:48:32.206201Z"
    }
   },
   "outputs": [],
   "execution_count": 3
  },
  {
   "cell_type": "code",
   "source": [
    "training_data = np.array(all_training_data.Open).reshape(-1,1)  # reshaping data to 1-dimensional\n",
    "training_data"
   ],
   "metadata": {
    "collapsed": false,
    "ExecuteTime": {
     "end_time": "2024-07-05T02:48:32.243864Z",
     "start_time": "2024-07-05T02:48:32.219164Z"
    }
   },
   "outputs": [
    {
     "data": {
      "text/plain": [
       "array([[ 19.      ],\n",
       "       [ 25.790001],\n",
       "       [ 25.      ],\n",
       "       ...,\n",
       "       [435.      ],\n",
       "       [428.790009],\n",
       "       [405.      ]])"
      ]
     },
     "execution_count": 4,
     "metadata": {},
     "output_type": "execute_result"
    }
   ],
   "execution_count": 4
  },
  {
   "metadata": {},
   "cell_type": "markdown",
   "source": "<h4> Scaling Training Data between 0 and 1"
  },
  {
   "cell_type": "code",
   "source": [
    "from sklearn.preprocessing import MinMaxScaler\n",
    "normalizer = MinMaxScaler() \n",
    "training_data_scaled = normalizer.fit_transform(training_data)\n",
    "training_data_scaled"
   ],
   "metadata": {
    "collapsed": false,
    "ExecuteTime": {
     "end_time": "2024-07-05T02:48:37.776205Z",
     "start_time": "2024-07-05T02:48:32.247851Z"
    }
   },
   "outputs": [
    {
     "data": {
      "text/plain": [
       "array([[0.00682806],\n",
       "       [0.02303873],\n",
       "       [0.02115265],\n",
       "       ...,\n",
       "       [1.        ],\n",
       "       [0.98517407],\n",
       "       [0.92837702]])"
      ]
     },
     "execution_count": 5,
     "metadata": {},
     "output_type": "execute_result"
    }
   ],
   "execution_count": 5
  },
  {
   "cell_type": "markdown",
   "source": [
    "<h5> Create the data to get 60 timestamps from the current instance. We chose 60\n",
    "here as this will give us a sufficient number of previous instances so that we can\n",
    "understand the trend; technically, this can be any number, but 60 is the optimal\n",
    "value. Additionally, the upper bound value here is 2394, which is the index or\n",
    "count of rows (or records) in the training set"
   ],
   "metadata": {
    "collapsed": false
   }
  },
  {
   "cell_type": "code",
   "source": [
    "timestamps = 60\n",
    "upper_bound = len(training_data_scaled)\n",
    "X_train, Y_train = [], []\n",
    "for t in range(timestamps, upper_bound):\n",
    "    X_train.append(training_data_scaled[t - timestamps: t, 0])\n",
    "    Y_train.append(training_data_scaled[t, 0])\n",
    "X_train, y_train = np.array(X_train), np.array(Y_train)"
   ],
   "metadata": {
    "collapsed": false,
    "ExecuteTime": {
     "end_time": "2024-07-05T02:48:37.798143Z",
     "start_time": "2024-07-05T02:48:37.783184Z"
    }
   },
   "outputs": [],
   "execution_count": 6
  },
  {
   "cell_type": "code",
   "source": [
    "X_train"
   ],
   "metadata": {
    "collapsed": false,
    "ExecuteTime": {
     "end_time": "2024-07-05T02:48:37.888013Z",
     "start_time": "2024-07-05T02:48:37.801137Z"
    }
   },
   "outputs": [
    {
     "data": {
      "text/plain": [
       "array([[0.00682806, 0.02303873, 0.02115265, ..., 0.01081507, 0.0113403 ,\n",
       "        0.01129256],\n",
       "       [0.02303873, 0.02115265, 0.01637779, ..., 0.0113403 , 0.01129256,\n",
       "        0.00895287],\n",
       "       [0.02115265, 0.01637779, 0.00921549, ..., 0.01129256, 0.00895287,\n",
       "        0.00909612],\n",
       "       ...,\n",
       "       [0.54230529, 0.51501695, 0.5144201 , ..., 0.94456381, 0.96027309,\n",
       "        0.98307311],\n",
       "       [0.51501695, 0.5144201 , 0.51009885, ..., 0.96027309, 0.98307311,\n",
       "        1.        ],\n",
       "       [0.5144201 , 0.51009885, 0.52459054, ..., 0.98307311, 1.        ,\n",
       "        0.98517407]])"
      ]
     },
     "execution_count": 7,
     "metadata": {},
     "output_type": "execute_result"
    }
   ],
   "execution_count": 7
  },
  {
   "cell_type": "code",
   "source": "y_train",
   "metadata": {
    "collapsed": false,
    "ExecuteTime": {
     "end_time": "2024-07-05T02:48:37.909471Z",
     "start_time": "2024-07-05T02:48:37.891Z"
    }
   },
   "outputs": [
    {
     "data": {
      "text/plain": [
       "array([0.00895287, 0.00909612, 0.01017047, ..., 1.        , 0.98517407,\n",
       "       0.92837702])"
      ]
     },
     "execution_count": 8,
     "metadata": {},
     "output_type": "execute_result"
    }
   ],
   "execution_count": 8
  },
  {
   "cell_type": "markdown",
   "source": "Adding extra dimension to X_train",
   "metadata": {
    "collapsed": false
   }
  },
  {
   "cell_type": "code",
   "source": [
    "X_train = X_train.reshape(X_train.shape[0], X_train.shape[1], 1)\n",
    "X_train"
   ],
   "metadata": {
    "collapsed": false,
    "ExecuteTime": {
     "end_time": "2024-07-05T02:48:37.933138Z",
     "start_time": "2024-07-05T02:48:37.913452Z"
    }
   },
   "outputs": [
    {
     "data": {
      "text/plain": [
       "array([[[0.00682806],\n",
       "        [0.02303873],\n",
       "        [0.02115265],\n",
       "        ...,\n",
       "        [0.01081507],\n",
       "        [0.0113403 ],\n",
       "        [0.01129256]],\n",
       "\n",
       "       [[0.02303873],\n",
       "        [0.02115265],\n",
       "        [0.01637779],\n",
       "        ...,\n",
       "        [0.0113403 ],\n",
       "        [0.01129256],\n",
       "        [0.00895287]],\n",
       "\n",
       "       [[0.02115265],\n",
       "        [0.01637779],\n",
       "        [0.00921549],\n",
       "        ...,\n",
       "        [0.01129256],\n",
       "        [0.00895287],\n",
       "        [0.00909612]],\n",
       "\n",
       "       ...,\n",
       "\n",
       "       [[0.54230529],\n",
       "        [0.51501695],\n",
       "        [0.5144201 ],\n",
       "        ...,\n",
       "        [0.94456381],\n",
       "        [0.96027309],\n",
       "        [0.98307311]],\n",
       "\n",
       "       [[0.51501695],\n",
       "        [0.5144201 ],\n",
       "        [0.51009885],\n",
       "        ...,\n",
       "        [0.96027309],\n",
       "        [0.98307311],\n",
       "        [1.        ]],\n",
       "\n",
       "       [[0.5144201 ],\n",
       "        [0.51009885],\n",
       "        [0.52459054],\n",
       "        ...,\n",
       "        [0.98307311],\n",
       "        [1.        ],\n",
       "        [0.98517407]]])"
      ]
     },
     "execution_count": 9,
     "metadata": {},
     "output_type": "execute_result"
    }
   ],
   "execution_count": 9
  },
  {
   "metadata": {
    "ExecuteTime": {
     "end_time": "2024-07-05T02:48:37.953116Z",
     "start_time": "2024-07-05T02:48:37.935130Z"
    }
   },
   "cell_type": "code",
   "source": "X_train.ndim",
   "outputs": [
    {
     "data": {
      "text/plain": [
       "3"
      ]
     },
     "execution_count": 10,
     "metadata": {},
     "output_type": "execute_result"
    }
   ],
   "execution_count": 10
  },
  {
   "metadata": {},
   "cell_type": "markdown",
   "source": "<h4> Import the following Keras libraries to build the RNN"
  },
  {
   "cell_type": "code",
   "source": [
    "from keras.src.models import Sequential\n",
    "from keras.src.layers import Input, LSTM, Dense, Dropout"
   ],
   "metadata": {
    "collapsed": false,
    "ExecuteTime": {
     "end_time": "2024-07-05T02:48:55.053509Z",
     "start_time": "2024-07-05T02:48:37.958099Z"
    }
   },
   "outputs": [],
   "execution_count": 11
  },
  {
   "metadata": {},
   "cell_type": "markdown",
   "source": "<h4> Set the seed and initiate the sequential model, as follows"
  },
  {
   "metadata": {
    "ExecuteTime": {
     "end_time": "2024-07-05T02:48:55.083106Z",
     "start_time": "2024-07-05T02:48:55.054502Z"
    }
   },
   "cell_type": "code",
   "source": [
    "from tensorflow import random\n",
    "seed = 1\n",
    "np.random.seed(seed)\n",
    "random.set_seed(seed)\n",
    "model = Sequential(name='TeslaStockPricePredictor')"
   ],
   "outputs": [],
   "execution_count": 12
  },
  {
   "metadata": {},
   "cell_type": "markdown",
   "source": [
    "<h5> input shape looks like (batch_size, time_steps, features) </h5>\n",
    "<h6> Add an LSTM layer to the network with 50 units, set the return_sequences\n",
    "argument to True, and set the input_shape argument to (X_train.\n",
    "shape[1], 1). Add three additional LSTM layers, each with 50 units, and set\n",
    "the return_sequences argument to True for the first two, as follows:"
   ]
  },
  {
   "metadata": {},
   "cell_type": "markdown",
   "source": "<h5> In Keras, when you're building a Sequential model, it's better to define the input shape using an Input layer as the first layer in the model. This is because the Input layer provides a more explicit and flexible way to define the input shape."
  },
  {
   "metadata": {
    "ExecuteTime": {
     "end_time": "2024-07-05T02:48:55.725789Z",
     "start_time": "2024-07-05T02:48:55.085097Z"
    }
   },
   "cell_type": "code",
   "source": [
    "# Adding a first input layer\n",
    "model.add(Input(shape=(60, 1)))\n",
    "model.add(LSTM(units = 50, return_sequences = True))\n",
    "# Adding a second LSTM layer\n",
    "model.add(LSTM(units = 50, return_sequences = True))\n",
    "# Adding a third LSTM layer\n",
    "model.add(LSTM(units = 50))\n",
    "# Adding the output layer\n",
    "model.add(Dense(units = 1))"
   ],
   "outputs": [],
   "execution_count": 13
  },
  {
   "metadata": {
    "ExecuteTime": {
     "end_time": "2024-07-05T02:48:55.757213Z",
     "start_time": "2024-07-05T02:48:55.727293Z"
    }
   },
   "cell_type": "code",
   "source": "model.summary()",
   "outputs": [
    {
     "data": {
      "text/plain": [
       "\u001B[1mModel: \"TeslaStockPricePredictor\"\u001B[0m\n"
      ],
      "text/html": [
       "<pre style=\"white-space:pre;overflow-x:auto;line-height:normal;font-family:Menlo,'DejaVu Sans Mono',consolas,'Courier New',monospace\"><span style=\"font-weight: bold\">Model: \"TeslaStockPricePredictor\"</span>\n",
       "</pre>\n"
      ]
     },
     "metadata": {},
     "output_type": "display_data"
    },
    {
     "data": {
      "text/plain": [
       "┏━━━━━━━━━━━━━━━━━━━━━━━━━━━━━━━━━┳━━━━━━━━━━━━━━━━━━━━━━━━┳━━━━━━━━━━━━━━━┓\n",
       "┃\u001B[1m \u001B[0m\u001B[1mLayer (type)                   \u001B[0m\u001B[1m \u001B[0m┃\u001B[1m \u001B[0m\u001B[1mOutput Shape          \u001B[0m\u001B[1m \u001B[0m┃\u001B[1m \u001B[0m\u001B[1m      Param #\u001B[0m\u001B[1m \u001B[0m┃\n",
       "┡━━━━━━━━━━━━━━━━━━━━━━━━━━━━━━━━━╇━━━━━━━━━━━━━━━━━━━━━━━━╇━━━━━━━━━━━━━━━┩\n",
       "│ lstm (\u001B[38;5;33mLSTM\u001B[0m)                     │ (\u001B[38;5;45mNone\u001B[0m, \u001B[38;5;34m60\u001B[0m, \u001B[38;5;34m50\u001B[0m)         │        \u001B[38;5;34m10,400\u001B[0m │\n",
       "├─────────────────────────────────┼────────────────────────┼───────────────┤\n",
       "│ lstm_1 (\u001B[38;5;33mLSTM\u001B[0m)                   │ (\u001B[38;5;45mNone\u001B[0m, \u001B[38;5;34m60\u001B[0m, \u001B[38;5;34m50\u001B[0m)         │        \u001B[38;5;34m20,200\u001B[0m │\n",
       "├─────────────────────────────────┼────────────────────────┼───────────────┤\n",
       "│ lstm_2 (\u001B[38;5;33mLSTM\u001B[0m)                   │ (\u001B[38;5;45mNone\u001B[0m, \u001B[38;5;34m50\u001B[0m)             │        \u001B[38;5;34m20,200\u001B[0m │\n",
       "├─────────────────────────────────┼────────────────────────┼───────────────┤\n",
       "│ dense (\u001B[38;5;33mDense\u001B[0m)                   │ (\u001B[38;5;45mNone\u001B[0m, \u001B[38;5;34m1\u001B[0m)              │            \u001B[38;5;34m51\u001B[0m │\n",
       "└─────────────────────────────────┴────────────────────────┴───────────────┘\n"
      ],
      "text/html": [
       "<pre style=\"white-space:pre;overflow-x:auto;line-height:normal;font-family:Menlo,'DejaVu Sans Mono',consolas,'Courier New',monospace\">┏━━━━━━━━━━━━━━━━━━━━━━━━━━━━━━━━━┳━━━━━━━━━━━━━━━━━━━━━━━━┳━━━━━━━━━━━━━━━┓\n",
       "┃<span style=\"font-weight: bold\"> Layer (type)                    </span>┃<span style=\"font-weight: bold\"> Output Shape           </span>┃<span style=\"font-weight: bold\">       Param # </span>┃\n",
       "┡━━━━━━━━━━━━━━━━━━━━━━━━━━━━━━━━━╇━━━━━━━━━━━━━━━━━━━━━━━━╇━━━━━━━━━━━━━━━┩\n",
       "│ lstm (<span style=\"color: #0087ff; text-decoration-color: #0087ff\">LSTM</span>)                     │ (<span style=\"color: #00d7ff; text-decoration-color: #00d7ff\">None</span>, <span style=\"color: #00af00; text-decoration-color: #00af00\">60</span>, <span style=\"color: #00af00; text-decoration-color: #00af00\">50</span>)         │        <span style=\"color: #00af00; text-decoration-color: #00af00\">10,400</span> │\n",
       "├─────────────────────────────────┼────────────────────────┼───────────────┤\n",
       "│ lstm_1 (<span style=\"color: #0087ff; text-decoration-color: #0087ff\">LSTM</span>)                   │ (<span style=\"color: #00d7ff; text-decoration-color: #00d7ff\">None</span>, <span style=\"color: #00af00; text-decoration-color: #00af00\">60</span>, <span style=\"color: #00af00; text-decoration-color: #00af00\">50</span>)         │        <span style=\"color: #00af00; text-decoration-color: #00af00\">20,200</span> │\n",
       "├─────────────────────────────────┼────────────────────────┼───────────────┤\n",
       "│ lstm_2 (<span style=\"color: #0087ff; text-decoration-color: #0087ff\">LSTM</span>)                   │ (<span style=\"color: #00d7ff; text-decoration-color: #00d7ff\">None</span>, <span style=\"color: #00af00; text-decoration-color: #00af00\">50</span>)             │        <span style=\"color: #00af00; text-decoration-color: #00af00\">20,200</span> │\n",
       "├─────────────────────────────────┼────────────────────────┼───────────────┤\n",
       "│ dense (<span style=\"color: #0087ff; text-decoration-color: #0087ff\">Dense</span>)                   │ (<span style=\"color: #00d7ff; text-decoration-color: #00d7ff\">None</span>, <span style=\"color: #00af00; text-decoration-color: #00af00\">1</span>)              │            <span style=\"color: #00af00; text-decoration-color: #00af00\">51</span> │\n",
       "└─────────────────────────────────┴────────────────────────┴───────────────┘\n",
       "</pre>\n"
      ]
     },
     "metadata": {},
     "output_type": "display_data"
    },
    {
     "data": {
      "text/plain": [
       "\u001B[1m Total params: \u001B[0m\u001B[38;5;34m50,851\u001B[0m (198.64 KB)\n"
      ],
      "text/html": [
       "<pre style=\"white-space:pre;overflow-x:auto;line-height:normal;font-family:Menlo,'DejaVu Sans Mono',consolas,'Courier New',monospace\"><span style=\"font-weight: bold\"> Total params: </span><span style=\"color: #00af00; text-decoration-color: #00af00\">50,851</span> (198.64 KB)\n",
       "</pre>\n"
      ]
     },
     "metadata": {},
     "output_type": "display_data"
    },
    {
     "data": {
      "text/plain": [
       "\u001B[1m Trainable params: \u001B[0m\u001B[38;5;34m50,851\u001B[0m (198.64 KB)\n"
      ],
      "text/html": [
       "<pre style=\"white-space:pre;overflow-x:auto;line-height:normal;font-family:Menlo,'DejaVu Sans Mono',consolas,'Courier New',monospace\"><span style=\"font-weight: bold\"> Trainable params: </span><span style=\"color: #00af00; text-decoration-color: #00af00\">50,851</span> (198.64 KB)\n",
       "</pre>\n"
      ]
     },
     "metadata": {},
     "output_type": "display_data"
    },
    {
     "data": {
      "text/plain": [
       "\u001B[1m Non-trainable params: \u001B[0m\u001B[38;5;34m0\u001B[0m (0.00 B)\n"
      ],
      "text/html": [
       "<pre style=\"white-space:pre;overflow-x:auto;line-height:normal;font-family:Menlo,'DejaVu Sans Mono',consolas,'Courier New',monospace\"><span style=\"font-weight: bold\"> Non-trainable params: </span><span style=\"color: #00af00; text-decoration-color: #00af00\">0</span> (0.00 B)\n",
       "</pre>\n"
      ]
     },
     "metadata": {},
     "output_type": "display_data"
    }
   ],
   "execution_count": 14
  },
  {
   "metadata": {},
   "cell_type": "markdown",
   "source": [
    "<h5> Compile the network with an adam optimizer and use Mean Squared Error\n",
    "for the loss. Fit the model to the training data for 100 epochs with a batch size\n",
    "of 32"
   ]
  },
  {
   "metadata": {
    "ExecuteTime": {
     "end_time": "2024-07-05T02:54:48.350537Z",
     "start_time": "2024-07-05T02:48:55.758210Z"
    }
   },
   "cell_type": "code",
   "source": [
    "# Compiling the RNN\n",
    "model.compile(optimizer = 'adam', loss = 'mean_squared_error')\n",
    "# Fitting the RNN to the Training set\n",
    "model.fit(X_train, y_train, epochs = 100, batch_size = 32)"
   ],
   "outputs": [
    {
     "name": "stdout",
     "output_type": "stream",
     "text": [
      "Epoch 1/100\n",
      "\u001B[1m73/73\u001B[0m \u001B[32m━━━━━━━━━━━━━━━━━━━━\u001B[0m\u001B[37m\u001B[0m \u001B[1m14s\u001B[0m 57ms/step - loss: 0.0531\n",
      "Epoch 2/100\n",
      "\u001B[1m73/73\u001B[0m \u001B[32m━━━━━━━━━━━━━━━━━━━━\u001B[0m\u001B[37m\u001B[0m \u001B[1m4s\u001B[0m 50ms/step - loss: 0.0020\n",
      "Epoch 3/100\n",
      "\u001B[1m73/73\u001B[0m \u001B[32m━━━━━━━━━━━━━━━━━━━━\u001B[0m\u001B[37m\u001B[0m \u001B[1m3s\u001B[0m 47ms/step - loss: 0.0018\n",
      "Epoch 4/100\n",
      "\u001B[1m73/73\u001B[0m \u001B[32m━━━━━━━━━━━━━━━━━━━━\u001B[0m\u001B[37m\u001B[0m \u001B[1m3s\u001B[0m 47ms/step - loss: 0.0016\n",
      "Epoch 5/100\n",
      "\u001B[1m73/73\u001B[0m \u001B[32m━━━━━━━━━━━━━━━━━━━━\u001B[0m\u001B[37m\u001B[0m \u001B[1m4s\u001B[0m 51ms/step - loss: 0.0015\n",
      "Epoch 6/100\n",
      "\u001B[1m73/73\u001B[0m \u001B[32m━━━━━━━━━━━━━━━━━━━━\u001B[0m\u001B[37m\u001B[0m \u001B[1m4s\u001B[0m 51ms/step - loss: 0.0015\n",
      "Epoch 7/100\n",
      "\u001B[1m73/73\u001B[0m \u001B[32m━━━━━━━━━━━━━━━━━━━━\u001B[0m\u001B[37m\u001B[0m \u001B[1m4s\u001B[0m 53ms/step - loss: 0.0013\n",
      "Epoch 8/100\n",
      "\u001B[1m73/73\u001B[0m \u001B[32m━━━━━━━━━━━━━━━━━━━━\u001B[0m\u001B[37m\u001B[0m \u001B[1m5s\u001B[0m 66ms/step - loss: 0.0012\n",
      "Epoch 9/100\n",
      "\u001B[1m73/73\u001B[0m \u001B[32m━━━━━━━━━━━━━━━━━━━━\u001B[0m\u001B[37m\u001B[0m \u001B[1m5s\u001B[0m 67ms/step - loss: 0.0010\n",
      "Epoch 10/100\n",
      "\u001B[1m73/73\u001B[0m \u001B[32m━━━━━━━━━━━━━━━━━━━━\u001B[0m\u001B[37m\u001B[0m \u001B[1m5s\u001B[0m 72ms/step - loss: 9.1589e-04\n",
      "Epoch 11/100\n",
      "\u001B[1m73/73\u001B[0m \u001B[32m━━━━━━━━━━━━━━━━━━━━\u001B[0m\u001B[37m\u001B[0m \u001B[1m4s\u001B[0m 50ms/step - loss: 8.1680e-04\n",
      "Epoch 12/100\n",
      "\u001B[1m73/73\u001B[0m \u001B[32m━━━━━━━━━━━━━━━━━━━━\u001B[0m\u001B[37m\u001B[0m \u001B[1m3s\u001B[0m 44ms/step - loss: 7.4159e-04\n",
      "Epoch 13/100\n",
      "\u001B[1m73/73\u001B[0m \u001B[32m━━━━━━━━━━━━━━━━━━━━\u001B[0m\u001B[37m\u001B[0m \u001B[1m4s\u001B[0m 54ms/step - loss: 6.8532e-04\n",
      "Epoch 14/100\n",
      "\u001B[1m73/73\u001B[0m \u001B[32m━━━━━━━━━━━━━━━━━━━━\u001B[0m\u001B[37m\u001B[0m \u001B[1m3s\u001B[0m 47ms/step - loss: 6.4137e-04\n",
      "Epoch 15/100\n",
      "\u001B[1m73/73\u001B[0m \u001B[32m━━━━━━━━━━━━━━━━━━━━\u001B[0m\u001B[37m\u001B[0m \u001B[1m3s\u001B[0m 45ms/step - loss: 6.0582e-04\n",
      "Epoch 16/100\n",
      "\u001B[1m73/73\u001B[0m \u001B[32m━━━━━━━━━━━━━━━━━━━━\u001B[0m\u001B[37m\u001B[0m \u001B[1m3s\u001B[0m 44ms/step - loss: 5.7636e-04\n",
      "Epoch 17/100\n",
      "\u001B[1m73/73\u001B[0m \u001B[32m━━━━━━━━━━━━━━━━━━━━\u001B[0m\u001B[37m\u001B[0m \u001B[1m4s\u001B[0m 49ms/step - loss: 5.5140e-04\n",
      "Epoch 18/100\n",
      "\u001B[1m73/73\u001B[0m \u001B[32m━━━━━━━━━━━━━━━━━━━━\u001B[0m\u001B[37m\u001B[0m \u001B[1m4s\u001B[0m 49ms/step - loss: 5.2975e-04\n",
      "Epoch 19/100\n",
      "\u001B[1m73/73\u001B[0m \u001B[32m━━━━━━━━━━━━━━━━━━━━\u001B[0m\u001B[37m\u001B[0m \u001B[1m3s\u001B[0m 47ms/step - loss: 5.1053e-04\n",
      "Epoch 20/100\n",
      "\u001B[1m73/73\u001B[0m \u001B[32m━━━━━━━━━━━━━━━━━━━━\u001B[0m\u001B[37m\u001B[0m \u001B[1m4s\u001B[0m 52ms/step - loss: 4.9307e-04\n",
      "Epoch 21/100\n",
      "\u001B[1m73/73\u001B[0m \u001B[32m━━━━━━━━━━━━━━━━━━━━\u001B[0m\u001B[37m\u001B[0m \u001B[1m4s\u001B[0m 49ms/step - loss: 4.7690e-04\n",
      "Epoch 22/100\n",
      "\u001B[1m73/73\u001B[0m \u001B[32m━━━━━━━━━━━━━━━━━━━━\u001B[0m\u001B[37m\u001B[0m \u001B[1m5s\u001B[0m 69ms/step - loss: 4.6166e-04\n",
      "Epoch 23/100\n",
      "\u001B[1m73/73\u001B[0m \u001B[32m━━━━━━━━━━━━━━━━━━━━\u001B[0m\u001B[37m\u001B[0m \u001B[1m4s\u001B[0m 48ms/step - loss: 4.4709e-04\n",
      "Epoch 24/100\n",
      "\u001B[1m73/73\u001B[0m \u001B[32m━━━━━━━━━━━━━━━━━━━━\u001B[0m\u001B[37m\u001B[0m \u001B[1m5s\u001B[0m 46ms/step - loss: 4.3297e-04\n",
      "Epoch 25/100\n",
      "\u001B[1m73/73\u001B[0m \u001B[32m━━━━━━━━━━━━━━━━━━━━\u001B[0m\u001B[37m\u001B[0m \u001B[1m3s\u001B[0m 45ms/step - loss: 4.1909e-04\n",
      "Epoch 26/100\n",
      "\u001B[1m73/73\u001B[0m \u001B[32m━━━━━━━━━━━━━━━━━━━━\u001B[0m\u001B[37m\u001B[0m \u001B[1m3s\u001B[0m 43ms/step - loss: 4.0524e-04\n",
      "Epoch 27/100\n",
      "\u001B[1m73/73\u001B[0m \u001B[32m━━━━━━━━━━━━━━━━━━━━\u001B[0m\u001B[37m\u001B[0m \u001B[1m3s\u001B[0m 46ms/step - loss: 3.9122e-04\n",
      "Epoch 28/100\n",
      "\u001B[1m73/73\u001B[0m \u001B[32m━━━━━━━━━━━━━━━━━━━━\u001B[0m\u001B[37m\u001B[0m \u001B[1m3s\u001B[0m 46ms/step - loss: 3.7694e-04\n",
      "Epoch 29/100\n",
      "\u001B[1m73/73\u001B[0m \u001B[32m━━━━━━━━━━━━━━━━━━━━\u001B[0m\u001B[37m\u001B[0m \u001B[1m3s\u001B[0m 45ms/step - loss: 3.6292e-04\n",
      "Epoch 30/100\n",
      "\u001B[1m73/73\u001B[0m \u001B[32m━━━━━━━━━━━━━━━━━━━━\u001B[0m\u001B[37m\u001B[0m \u001B[1m3s\u001B[0m 45ms/step - loss: 3.5090e-04\n",
      "Epoch 31/100\n",
      "\u001B[1m73/73\u001B[0m \u001B[32m━━━━━━━━━━━━━━━━━━━━\u001B[0m\u001B[37m\u001B[0m \u001B[1m3s\u001B[0m 43ms/step - loss: 3.4329e-04\n",
      "Epoch 32/100\n",
      "\u001B[1m73/73\u001B[0m \u001B[32m━━━━━━━━━━━━━━━━━━━━\u001B[0m\u001B[37m\u001B[0m \u001B[1m3s\u001B[0m 46ms/step - loss: 3.4035e-04\n",
      "Epoch 33/100\n",
      "\u001B[1m73/73\u001B[0m \u001B[32m━━━━━━━━━━━━━━━━━━━━\u001B[0m\u001B[37m\u001B[0m \u001B[1m3s\u001B[0m 47ms/step - loss: 3.3926e-04\n",
      "Epoch 34/100\n",
      "\u001B[1m73/73\u001B[0m \u001B[32m━━━━━━━━━━━━━━━━━━━━\u001B[0m\u001B[37m\u001B[0m \u001B[1m3s\u001B[0m 42ms/step - loss: 3.3807e-04\n",
      "Epoch 35/100\n",
      "\u001B[1m73/73\u001B[0m \u001B[32m━━━━━━━━━━━━━━━━━━━━\u001B[0m\u001B[37m\u001B[0m \u001B[1m3s\u001B[0m 45ms/step - loss: 3.3688e-04\n",
      "Epoch 36/100\n",
      "\u001B[1m73/73\u001B[0m \u001B[32m━━━━━━━━━━━━━━━━━━━━\u001B[0m\u001B[37m\u001B[0m \u001B[1m4s\u001B[0m 59ms/step - loss: 3.3585e-04\n",
      "Epoch 37/100\n",
      "\u001B[1m73/73\u001B[0m \u001B[32m━━━━━━━━━━━━━━━━━━━━\u001B[0m\u001B[37m\u001B[0m \u001B[1m3s\u001B[0m 47ms/step - loss: 3.3493e-04\n",
      "Epoch 38/100\n",
      "\u001B[1m73/73\u001B[0m \u001B[32m━━━━━━━━━━━━━━━━━━━━\u001B[0m\u001B[37m\u001B[0m \u001B[1m3s\u001B[0m 47ms/step - loss: 3.3406e-04\n",
      "Epoch 39/100\n",
      "\u001B[1m73/73\u001B[0m \u001B[32m━━━━━━━━━━━━━━━━━━━━\u001B[0m\u001B[37m\u001B[0m \u001B[1m4s\u001B[0m 50ms/step - loss: 3.3319e-04\n",
      "Epoch 40/100\n",
      "\u001B[1m73/73\u001B[0m \u001B[32m━━━━━━━━━━━━━━━━━━━━\u001B[0m\u001B[37m\u001B[0m \u001B[1m3s\u001B[0m 47ms/step - loss: 3.3229e-04\n",
      "Epoch 41/100\n",
      "\u001B[1m73/73\u001B[0m \u001B[32m━━━━━━━━━━━━━━━━━━━━\u001B[0m\u001B[37m\u001B[0m \u001B[1m3s\u001B[0m 43ms/step - loss: 3.3133e-04\n",
      "Epoch 42/100\n",
      "\u001B[1m73/73\u001B[0m \u001B[32m━━━━━━━━━━━━━━━━━━━━\u001B[0m\u001B[37m\u001B[0m \u001B[1m3s\u001B[0m 40ms/step - loss: 3.3033e-04\n",
      "Epoch 43/100\n",
      "\u001B[1m73/73\u001B[0m \u001B[32m━━━━━━━━━━━━━━━━━━━━\u001B[0m\u001B[37m\u001B[0m \u001B[1m3s\u001B[0m 47ms/step - loss: 3.2928e-04\n",
      "Epoch 44/100\n",
      "\u001B[1m73/73\u001B[0m \u001B[32m━━━━━━━━━━━━━━━━━━━━\u001B[0m\u001B[37m\u001B[0m \u001B[1m3s\u001B[0m 41ms/step - loss: 3.2819e-04\n",
      "Epoch 45/100\n",
      "\u001B[1m73/73\u001B[0m \u001B[32m━━━━━━━━━━━━━━━━━━━━\u001B[0m\u001B[37m\u001B[0m \u001B[1m3s\u001B[0m 42ms/step - loss: 3.2710e-04\n",
      "Epoch 46/100\n",
      "\u001B[1m73/73\u001B[0m \u001B[32m━━━━━━━━━━━━━━━━━━━━\u001B[0m\u001B[37m\u001B[0m \u001B[1m3s\u001B[0m 46ms/step - loss: 3.2601e-04\n",
      "Epoch 47/100\n",
      "\u001B[1m73/73\u001B[0m \u001B[32m━━━━━━━━━━━━━━━━━━━━\u001B[0m\u001B[37m\u001B[0m \u001B[1m3s\u001B[0m 43ms/step - loss: 3.2495e-04\n",
      "Epoch 48/100\n",
      "\u001B[1m73/73\u001B[0m \u001B[32m━━━━━━━━━━━━━━━━━━━━\u001B[0m\u001B[37m\u001B[0m \u001B[1m3s\u001B[0m 43ms/step - loss: 3.2393e-04\n",
      "Epoch 49/100\n",
      "\u001B[1m73/73\u001B[0m \u001B[32m━━━━━━━━━━━━━━━━━━━━\u001B[0m\u001B[37m\u001B[0m \u001B[1m4s\u001B[0m 48ms/step - loss: 3.2297e-04\n",
      "Epoch 50/100\n",
      "\u001B[1m73/73\u001B[0m \u001B[32m━━━━━━━━━━━━━━━━━━━━\u001B[0m\u001B[37m\u001B[0m \u001B[1m4s\u001B[0m 49ms/step - loss: 3.2206e-04\n",
      "Epoch 51/100\n",
      "\u001B[1m73/73\u001B[0m \u001B[32m━━━━━━━━━━━━━━━━━━━━\u001B[0m\u001B[37m\u001B[0m \u001B[1m3s\u001B[0m 47ms/step - loss: 3.2122e-04\n",
      "Epoch 52/100\n",
      "\u001B[1m73/73\u001B[0m \u001B[32m━━━━━━━━━━━━━━━━━━━━\u001B[0m\u001B[37m\u001B[0m \u001B[1m3s\u001B[0m 44ms/step - loss: 3.2043e-04\n",
      "Epoch 53/100\n",
      "\u001B[1m73/73\u001B[0m \u001B[32m━━━━━━━━━━━━━━━━━━━━\u001B[0m\u001B[37m\u001B[0m \u001B[1m3s\u001B[0m 44ms/step - loss: 3.1970e-04\n",
      "Epoch 54/100\n",
      "\u001B[1m73/73\u001B[0m \u001B[32m━━━━━━━━━━━━━━━━━━━━\u001B[0m\u001B[37m\u001B[0m \u001B[1m3s\u001B[0m 43ms/step - loss: 3.1901e-04\n",
      "Epoch 55/100\n",
      "\u001B[1m73/73\u001B[0m \u001B[32m━━━━━━━━━━━━━━━━━━━━\u001B[0m\u001B[37m\u001B[0m \u001B[1m3s\u001B[0m 44ms/step - loss: 3.1837e-04\n",
      "Epoch 56/100\n",
      "\u001B[1m73/73\u001B[0m \u001B[32m━━━━━━━━━━━━━━━━━━━━\u001B[0m\u001B[37m\u001B[0m \u001B[1m4s\u001B[0m 51ms/step - loss: 3.1775e-04\n",
      "Epoch 57/100\n",
      "\u001B[1m73/73\u001B[0m \u001B[32m━━━━━━━━━━━━━━━━━━━━\u001B[0m\u001B[37m\u001B[0m \u001B[1m3s\u001B[0m 45ms/step - loss: 3.1716e-04\n",
      "Epoch 58/100\n",
      "\u001B[1m73/73\u001B[0m \u001B[32m━━━━━━━━━━━━━━━━━━━━\u001B[0m\u001B[37m\u001B[0m \u001B[1m3s\u001B[0m 43ms/step - loss: 3.1658e-04\n",
      "Epoch 59/100\n",
      "\u001B[1m73/73\u001B[0m \u001B[32m━━━━━━━━━━━━━━━━━━━━\u001B[0m\u001B[37m\u001B[0m \u001B[1m4s\u001B[0m 49ms/step - loss: 3.1602e-04\n",
      "Epoch 60/100\n",
      "\u001B[1m73/73\u001B[0m \u001B[32m━━━━━━━━━━━━━━━━━━━━\u001B[0m\u001B[37m\u001B[0m \u001B[1m3s\u001B[0m 41ms/step - loss: 3.1546e-04\n",
      "Epoch 61/100\n",
      "\u001B[1m73/73\u001B[0m \u001B[32m━━━━━━━━━━━━━━━━━━━━\u001B[0m\u001B[37m\u001B[0m \u001B[1m3s\u001B[0m 43ms/step - loss: 3.1490e-04\n",
      "Epoch 62/100\n",
      "\u001B[1m73/73\u001B[0m \u001B[32m━━━━━━━━━━━━━━━━━━━━\u001B[0m\u001B[37m\u001B[0m \u001B[1m3s\u001B[0m 45ms/step - loss: 3.1434e-04\n",
      "Epoch 63/100\n",
      "\u001B[1m73/73\u001B[0m \u001B[32m━━━━━━━━━━━━━━━━━━━━\u001B[0m\u001B[37m\u001B[0m \u001B[1m3s\u001B[0m 47ms/step - loss: 3.1378e-04\n",
      "Epoch 64/100\n",
      "\u001B[1m73/73\u001B[0m \u001B[32m━━━━━━━━━━━━━━━━━━━━\u001B[0m\u001B[37m\u001B[0m \u001B[1m3s\u001B[0m 46ms/step - loss: 3.1321e-04\n",
      "Epoch 65/100\n",
      "\u001B[1m73/73\u001B[0m \u001B[32m━━━━━━━━━━━━━━━━━━━━\u001B[0m\u001B[37m\u001B[0m \u001B[1m3s\u001B[0m 45ms/step - loss: 3.1264e-04\n",
      "Epoch 66/100\n",
      "\u001B[1m73/73\u001B[0m \u001B[32m━━━━━━━━━━━━━━━━━━━━\u001B[0m\u001B[37m\u001B[0m \u001B[1m3s\u001B[0m 44ms/step - loss: 3.1205e-04\n",
      "Epoch 67/100\n",
      "\u001B[1m73/73\u001B[0m \u001B[32m━━━━━━━━━━━━━━━━━━━━\u001B[0m\u001B[37m\u001B[0m \u001B[1m4s\u001B[0m 55ms/step - loss: 3.1146e-04\n",
      "Epoch 68/100\n",
      "\u001B[1m73/73\u001B[0m \u001B[32m━━━━━━━━━━━━━━━━━━━━\u001B[0m\u001B[37m\u001B[0m \u001B[1m4s\u001B[0m 50ms/step - loss: 3.1086e-04\n",
      "Epoch 69/100\n",
      "\u001B[1m73/73\u001B[0m \u001B[32m━━━━━━━━━━━━━━━━━━━━\u001B[0m\u001B[37m\u001B[0m \u001B[1m3s\u001B[0m 43ms/step - loss: 3.1026e-04\n",
      "Epoch 70/100\n",
      "\u001B[1m73/73\u001B[0m \u001B[32m━━━━━━━━━━━━━━━━━━━━\u001B[0m\u001B[37m\u001B[0m \u001B[1m3s\u001B[0m 44ms/step - loss: 3.0965e-04\n",
      "Epoch 71/100\n",
      "\u001B[1m73/73\u001B[0m \u001B[32m━━━━━━━━━━━━━━━━━━━━\u001B[0m\u001B[37m\u001B[0m \u001B[1m3s\u001B[0m 42ms/step - loss: 3.0903e-04\n",
      "Epoch 72/100\n",
      "\u001B[1m73/73\u001B[0m \u001B[32m━━━━━━━━━━━━━━━━━━━━\u001B[0m\u001B[37m\u001B[0m \u001B[1m3s\u001B[0m 47ms/step - loss: 3.0841e-04\n",
      "Epoch 73/100\n",
      "\u001B[1m73/73\u001B[0m \u001B[32m━━━━━━━━━━━━━━━━━━━━\u001B[0m\u001B[37m\u001B[0m \u001B[1m3s\u001B[0m 42ms/step - loss: 3.0779e-04\n",
      "Epoch 74/100\n",
      "\u001B[1m73/73\u001B[0m \u001B[32m━━━━━━━━━━━━━━━━━━━━\u001B[0m\u001B[37m\u001B[0m \u001B[1m3s\u001B[0m 44ms/step - loss: 3.0716e-04\n",
      "Epoch 75/100\n",
      "\u001B[1m73/73\u001B[0m \u001B[32m━━━━━━━━━━━━━━━━━━━━\u001B[0m\u001B[37m\u001B[0m \u001B[1m3s\u001B[0m 41ms/step - loss: 3.0654e-04\n",
      "Epoch 76/100\n",
      "\u001B[1m73/73\u001B[0m \u001B[32m━━━━━━━━━━━━━━━━━━━━\u001B[0m\u001B[37m\u001B[0m \u001B[1m3s\u001B[0m 42ms/step - loss: 3.0592e-04\n",
      "Epoch 77/100\n",
      "\u001B[1m73/73\u001B[0m \u001B[32m━━━━━━━━━━━━━━━━━━━━\u001B[0m\u001B[37m\u001B[0m \u001B[1m3s\u001B[0m 45ms/step - loss: 3.0530e-04\n",
      "Epoch 78/100\n",
      "\u001B[1m73/73\u001B[0m \u001B[32m━━━━━━━━━━━━━━━━━━━━\u001B[0m\u001B[37m\u001B[0m \u001B[1m3s\u001B[0m 43ms/step - loss: 3.0469e-04\n",
      "Epoch 79/100\n",
      "\u001B[1m73/73\u001B[0m \u001B[32m━━━━━━━━━━━━━━━━━━━━\u001B[0m\u001B[37m\u001B[0m \u001B[1m3s\u001B[0m 41ms/step - loss: 3.0409e-04\n",
      "Epoch 80/100\n",
      "\u001B[1m73/73\u001B[0m \u001B[32m━━━━━━━━━━━━━━━━━━━━\u001B[0m\u001B[37m\u001B[0m \u001B[1m3s\u001B[0m 41ms/step - loss: 3.0349e-04\n",
      "Epoch 81/100\n",
      "\u001B[1m73/73\u001B[0m \u001B[32m━━━━━━━━━━━━━━━━━━━━\u001B[0m\u001B[37m\u001B[0m \u001B[1m3s\u001B[0m 41ms/step - loss: 3.0291e-04\n",
      "Epoch 82/100\n",
      "\u001B[1m73/73\u001B[0m \u001B[32m━━━━━━━━━━━━━━━━━━━━\u001B[0m\u001B[37m\u001B[0m \u001B[1m3s\u001B[0m 46ms/step - loss: 3.0234e-04\n",
      "Epoch 83/100\n",
      "\u001B[1m73/73\u001B[0m \u001B[32m━━━━━━━━━━━━━━━━━━━━\u001B[0m\u001B[37m\u001B[0m \u001B[1m3s\u001B[0m 42ms/step - loss: 3.0178e-04\n",
      "Epoch 84/100\n",
      "\u001B[1m73/73\u001B[0m \u001B[32m━━━━━━━━━━━━━━━━━━━━\u001B[0m\u001B[37m\u001B[0m \u001B[1m3s\u001B[0m 43ms/step - loss: 3.0124e-04\n",
      "Epoch 85/100\n",
      "\u001B[1m73/73\u001B[0m \u001B[32m━━━━━━━━━━━━━━━━━━━━\u001B[0m\u001B[37m\u001B[0m \u001B[1m3s\u001B[0m 42ms/step - loss: 3.0072e-04\n",
      "Epoch 86/100\n",
      "\u001B[1m73/73\u001B[0m \u001B[32m━━━━━━━━━━━━━━━━━━━━\u001B[0m\u001B[37m\u001B[0m \u001B[1m3s\u001B[0m 41ms/step - loss: 3.0022e-04\n",
      "Epoch 87/100\n",
      "\u001B[1m73/73\u001B[0m \u001B[32m━━━━━━━━━━━━━━━━━━━━\u001B[0m\u001B[37m\u001B[0m \u001B[1m3s\u001B[0m 42ms/step - loss: 2.9974e-04\n",
      "Epoch 88/100\n",
      "\u001B[1m73/73\u001B[0m \u001B[32m━━━━━━━━━━━━━━━━━━━━\u001B[0m\u001B[37m\u001B[0m \u001B[1m3s\u001B[0m 41ms/step - loss: 2.9929e-04\n",
      "Epoch 89/100\n",
      "\u001B[1m73/73\u001B[0m \u001B[32m━━━━━━━━━━━━━━━━━━━━\u001B[0m\u001B[37m\u001B[0m \u001B[1m3s\u001B[0m 41ms/step - loss: 2.9886e-04\n",
      "Epoch 90/100\n",
      "\u001B[1m73/73\u001B[0m \u001B[32m━━━━━━━━━━━━━━━━━━━━\u001B[0m\u001B[37m\u001B[0m \u001B[1m3s\u001B[0m 42ms/step - loss: 2.9847e-04\n",
      "Epoch 91/100\n",
      "\u001B[1m73/73\u001B[0m \u001B[32m━━━━━━━━━━━━━━━━━━━━\u001B[0m\u001B[37m\u001B[0m \u001B[1m3s\u001B[0m 41ms/step - loss: 2.9811e-04\n",
      "Epoch 92/100\n",
      "\u001B[1m73/73\u001B[0m \u001B[32m━━━━━━━━━━━━━━━━━━━━\u001B[0m\u001B[37m\u001B[0m \u001B[1m3s\u001B[0m 41ms/step - loss: 2.9778e-04\n",
      "Epoch 93/100\n",
      "\u001B[1m73/73\u001B[0m \u001B[32m━━━━━━━━━━━━━━━━━━━━\u001B[0m\u001B[37m\u001B[0m \u001B[1m3s\u001B[0m 41ms/step - loss: 2.9749e-04\n",
      "Epoch 94/100\n",
      "\u001B[1m73/73\u001B[0m \u001B[32m━━━━━━━━━━━━━━━━━━━━\u001B[0m\u001B[37m\u001B[0m \u001B[1m3s\u001B[0m 41ms/step - loss: 2.9725e-04\n",
      "Epoch 95/100\n",
      "\u001B[1m73/73\u001B[0m \u001B[32m━━━━━━━━━━━━━━━━━━━━\u001B[0m\u001B[37m\u001B[0m \u001B[1m3s\u001B[0m 41ms/step - loss: 2.9705e-04\n",
      "Epoch 96/100\n",
      "\u001B[1m73/73\u001B[0m \u001B[32m━━━━━━━━━━━━━━━━━━━━\u001B[0m\u001B[37m\u001B[0m \u001B[1m3s\u001B[0m 41ms/step - loss: 2.9690e-04\n",
      "Epoch 97/100\n",
      "\u001B[1m73/73\u001B[0m \u001B[32m━━━━━━━━━━━━━━━━━━━━\u001B[0m\u001B[37m\u001B[0m \u001B[1m3s\u001B[0m 42ms/step - loss: 2.9680e-04\n",
      "Epoch 98/100\n",
      "\u001B[1m73/73\u001B[0m \u001B[32m━━━━━━━━━━━━━━━━━━━━\u001B[0m\u001B[37m\u001B[0m \u001B[1m3s\u001B[0m 42ms/step - loss: 2.9676e-04\n",
      "Epoch 99/100\n",
      "\u001B[1m73/73\u001B[0m \u001B[32m━━━━━━━━━━━━━━━━━━━━\u001B[0m\u001B[37m\u001B[0m \u001B[1m3s\u001B[0m 43ms/step - loss: 2.9678e-04\n",
      "Epoch 100/100\n",
      "\u001B[1m73/73\u001B[0m \u001B[32m━━━━━━━━━━━━━━━━━━━━\u001B[0m\u001B[37m\u001B[0m \u001B[1m3s\u001B[0m 42ms/step - loss: 2.9685e-04\n"
     ]
    },
    {
     "data": {
      "text/plain": [
       "<keras.src.callbacks.history.History at 0x230abaec850>"
      ]
     },
     "execution_count": 15,
     "metadata": {},
     "output_type": "execute_result"
    }
   ],
   "execution_count": 15
  },
  {
   "metadata": {
    "ExecuteTime": {
     "end_time": "2024-07-05T02:55:25.653629Z",
     "start_time": "2024-07-05T02:55:25.647645Z"
    }
   },
   "cell_type": "code",
   "source": "print(f'Loss: 2.9685e-04 = {float(2.9685e-04)}')",
   "outputs": [
    {
     "name": "stdout",
     "output_type": "stream",
     "text": [
      "Loss: 2.9685e-04 = 0.00029685\n"
     ]
    }
   ],
   "execution_count": 17
  },
  {
   "metadata": {},
   "cell_type": "markdown",
   "source": "> To convert this back into scientific notation: `print('{:.3e}'.format(0.00029685))`"
  },
  {
   "metadata": {},
   "cell_type": "markdown",
   "source": "<h4> Exporting & Importing Model using pickle"
  },
  {
   "metadata": {
    "ExecuteTime": {
     "end_time": "2024-07-05T03:26:31.792996Z",
     "start_time": "2024-07-05T03:26:30.826712Z"
    }
   },
   "cell_type": "code",
   "source": [
    "import pickle\n",
    "pickle.dump(model, open('TeslaStockPricePredictorModel.pkl', 'wb'))\n",
    "pickle.load(open('TeslaStockPricePredictorModel.pkl', 'rb'))"
   ],
   "outputs": [
    {
     "data": {
      "text/plain": [
       "<Sequential name=TeslaStockPricePredictor, built=True>"
      ]
     },
     "execution_count": 23,
     "metadata": {},
     "output_type": "execute_result"
    }
   ],
   "execution_count": 23
  },
  {
   "metadata": {},
   "cell_type": "markdown",
   "source": [
    "<h5> Load and process the test data (which is treated as actual data here) and select\n",
    "the column representing the value of Open stock data"
   ]
  },
  {
   "metadata": {
    "ExecuteTime": {
     "end_time": "2024-07-05T03:29:27.797047Z",
     "start_time": "2024-07-05T03:29:27.632254Z"
    }
   },
   "cell_type": "code",
   "source": [
    "actual_stock_price = all_test_data[['Open']].values\n",
    "actual_stock_price"
   ],
   "outputs": [
    {
     "data": {
      "text/plain": [
       "array([[424.5     ],\n",
       "       [440.5     ],\n",
       "       [440.470001],\n",
       "       [461.399994],\n",
       "       [473.700012],\n",
       "       [497.100006],\n",
       "       [481.790009],\n",
       "       [493.5     ],\n",
       "       [544.26001 ],\n",
       "       [529.76001 ],\n",
       "       [493.75    ],\n",
       "       [507.609985],\n",
       "       [530.25    ],\n",
       "       [571.890015],\n",
       "       [564.25    ],\n",
       "       [570.630005],\n",
       "       [541.98999 ],\n",
       "       [568.48999 ],\n",
       "       [575.690002],\n",
       "       [632.419983],\n",
       "       [640.      ],\n",
       "       [673.690002]])"
      ]
     },
     "execution_count": 25,
     "metadata": {},
     "output_type": "execute_result"
    }
   ],
   "execution_count": 25
  },
  {
   "metadata": {
    "ExecuteTime": {
     "end_time": "2024-07-05T03:30:53.405545Z",
     "start_time": "2024-07-05T03:30:53.396049Z"
    }
   },
   "cell_type": "code",
   "source": "len(actual_stock_price)",
   "outputs": [
    {
     "data": {
      "text/plain": [
       "22"
      ]
     },
     "execution_count": 26,
     "metadata": {},
     "output_type": "execute_result"
    }
   ],
   "execution_count": 26
  },
  {
   "metadata": {
    "ExecuteTime": {
     "end_time": "2024-07-05T03:33:33.891860Z",
     "start_time": "2024-07-05T03:33:33.871268Z"
    }
   },
   "cell_type": "code",
   "source": [
    "total_data = tesla.Open\n",
    "total_data"
   ],
   "outputs": [
    {
     "data": {
      "text/plain": [
       "0        19.000000\n",
       "1        25.790001\n",
       "2        25.000000\n",
       "3        23.000000\n",
       "4        20.000000\n",
       "           ...    \n",
       "2411    568.489990\n",
       "2412    575.690002\n",
       "2413    632.419983\n",
       "2414    640.000000\n",
       "2415    673.690002\n",
       "Name: Open, Length: 2416, dtype: float64"
      ]
     },
     "execution_count": 30,
     "metadata": {},
     "output_type": "execute_result"
    }
   ],
   "execution_count": 30
  },
  {
   "metadata": {},
   "cell_type": "markdown",
   "source": [
    "<h5> Reshape and scale the input to prepare the test data. Note that we are predicting\n",
    "the January & February monthly trend, January has 21 financial days where February has 1 financial day(2020-02-03) according to our data set, so in order to prepare\n",
    "the test set, we take the lower bound value as 60 and the upper bound value as\n",
    "82. This ensures that the difference of 22 is maintained </h5>"
   ]
  },
  {
   "metadata": {
    "ExecuteTime": {
     "end_time": "2024-07-05T04:52:12.202478Z",
     "start_time": "2024-07-05T04:52:12.183274Z"
    }
   },
   "cell_type": "code",
   "source": [
    "inputs = total_data[len(total_data) - len(actual_stock_price) - 60:].values\n",
    "inputs = inputs.reshape(-1,1)\n",
    "inputs = normalizer.transform(inputs)\n",
    "X_test = []\n",
    "for t in range(timestamps, 82):\n",
    "    X_test.append(inputs[t-60:t, 0])\n",
    "X_test = np.array(X_test)\n",
    "X_test = X_test.reshape(X_test.shape[0], X_test.shape[1], 1)\n",
    "X_test"
   ],
   "outputs": [
    {
     "data": {
      "text/plain": [
       "[array([0.51009885, 0.52459054, 0.53760208, 0.54705629, 0.55152078,\n",
       "        0.55331136, 0.57670824, 0.57596814, 0.58816789, 0.58387054,\n",
       "        0.57821226, 0.5686387 , 0.56906842, 0.67380508, 0.67225326,\n",
       "        0.74344652, 0.72542136, 0.70873323, 0.70897199, 0.71665952,\n",
       "        0.71303058, 0.72453802, 0.72067039, 0.74726643, 0.76006303,\n",
       "        0.7826243 , 0.78966718, 0.8090054 , 0.78778108, 0.79859623,\n",
       "        0.80403957, 0.80124624, 0.82094256, 0.80783558, 0.77357591,\n",
       "        0.78350763, 0.76190133, 0.75199349, 0.7519696 , 0.74788711,\n",
       "        0.75557464, 0.76782218, 0.75607599, 0.76125675, 0.76505275,\n",
       "        0.77309839, 0.80155662, 0.80881443, 0.82344933, 0.82703048,\n",
       "        0.86627988, 0.8701953 , 0.91004156, 0.94100656, 0.94456381,\n",
       "        0.96027309, 0.98307311, 1.        , 0.98517407, 0.92837702]),\n",
       " array([0.52459054, 0.53760208, 0.54705629, 0.55152078, 0.55331136,\n",
       "        0.57670824, 0.57596814, 0.58816789, 0.58387054, 0.57821226,\n",
       "        0.5686387 , 0.56906842, 0.67380508, 0.67225326, 0.74344652,\n",
       "        0.72542136, 0.70873323, 0.70897199, 0.71665952, 0.71303058,\n",
       "        0.72453802, 0.72067039, 0.74726643, 0.76006303, 0.7826243 ,\n",
       "        0.78966718, 0.8090054 , 0.78778108, 0.79859623, 0.80403957,\n",
       "        0.80124624, 0.82094256, 0.80783558, 0.77357591, 0.78350763,\n",
       "        0.76190133, 0.75199349, 0.7519696 , 0.74788711, 0.75557464,\n",
       "        0.76782218, 0.75607599, 0.76125675, 0.76505275, 0.77309839,\n",
       "        0.80155662, 0.80881443, 0.82344933, 0.82703048, 0.86627988,\n",
       "        0.8701953 , 0.91004156, 0.94100656, 0.94456381, 0.96027309,\n",
       "        0.98307311, 1.        , 0.98517407, 0.92837702, 0.97493196]),\n",
       " array([0.53760208, 0.54705629, 0.55152078, 0.55331136, 0.57670824,\n",
       "        0.57596814, 0.58816789, 0.58387054, 0.57821226, 0.5686387 ,\n",
       "        0.56906842, 0.67380508, 0.67225326, 0.74344652, 0.72542136,\n",
       "        0.70873323, 0.70897199, 0.71665952, 0.71303058, 0.72453802,\n",
       "        0.72067039, 0.74726643, 0.76006303, 0.7826243 , 0.78966718,\n",
       "        0.8090054 , 0.78778108, 0.79859623, 0.80403957, 0.80124624,\n",
       "        0.82094256, 0.80783558, 0.77357591, 0.78350763, 0.76190133,\n",
       "        0.75199349, 0.7519696 , 0.74788711, 0.75557464, 0.76782218,\n",
       "        0.75607599, 0.76125675, 0.76505275, 0.77309839, 0.80155662,\n",
       "        0.80881443, 0.82344933, 0.82703048, 0.86627988, 0.8701953 ,\n",
       "        0.91004156, 0.94100656, 0.94456381, 0.96027309, 0.98307311,\n",
       "        1.        , 0.98517407, 0.92837702, 0.97493196, 1.01313088]),\n",
       " array([0.54705629, 0.55152078, 0.55331136, 0.57670824, 0.57596814,\n",
       "        0.58816789, 0.58387054, 0.57821226, 0.5686387 , 0.56906842,\n",
       "        0.67380508, 0.67225326, 0.74344652, 0.72542136, 0.70873323,\n",
       "        0.70897199, 0.71665952, 0.71303058, 0.72453802, 0.72067039,\n",
       "        0.74726643, 0.76006303, 0.7826243 , 0.78966718, 0.8090054 ,\n",
       "        0.78778108, 0.79859623, 0.80403957, 0.80124624, 0.82094256,\n",
       "        0.80783558, 0.77357591, 0.78350763, 0.76190133, 0.75199349,\n",
       "        0.7519696 , 0.74788711, 0.75557464, 0.76782218, 0.75607599,\n",
       "        0.76125675, 0.76505275, 0.77309839, 0.80155662, 0.80881443,\n",
       "        0.82344933, 0.82703048, 0.86627988, 0.8701953 , 0.91004156,\n",
       "        0.94100656, 0.94456381, 0.96027309, 0.98307311, 1.        ,\n",
       "        0.98517407, 0.92837702, 0.97493196, 1.01313088, 1.01305926]),\n",
       " array([0.55152078, 0.55331136, 0.57670824, 0.57596814, 0.58816789,\n",
       "        0.58387054, 0.57821226, 0.5686387 , 0.56906842, 0.67380508,\n",
       "        0.67225326, 0.74344652, 0.72542136, 0.70873323, 0.70897199,\n",
       "        0.71665952, 0.71303058, 0.72453802, 0.72067039, 0.74726643,\n",
       "        0.76006303, 0.7826243 , 0.78966718, 0.8090054 , 0.78778108,\n",
       "        0.79859623, 0.80403957, 0.80124624, 0.82094256, 0.80783558,\n",
       "        0.77357591, 0.78350763, 0.76190133, 0.75199349, 0.7519696 ,\n",
       "        0.74788711, 0.75557464, 0.76782218, 0.75607599, 0.76125675,\n",
       "        0.76505275, 0.77309839, 0.80155662, 0.80881443, 0.82344933,\n",
       "        0.82703048, 0.86627988, 0.8701953 , 0.91004156, 0.94100656,\n",
       "        0.94456381, 0.96027309, 0.98307311, 1.        , 0.98517407,\n",
       "        0.92837702, 0.97493196, 1.01313088, 1.01305926, 1.0630282 ]),\n",
       " array([0.55331136, 0.57670824, 0.57596814, 0.58816789, 0.58387054,\n",
       "        0.57821226, 0.5686387 , 0.56906842, 0.67380508, 0.67225326,\n",
       "        0.74344652, 0.72542136, 0.70873323, 0.70897199, 0.71665952,\n",
       "        0.71303058, 0.72453802, 0.72067039, 0.74726643, 0.76006303,\n",
       "        0.7826243 , 0.78966718, 0.8090054 , 0.78778108, 0.79859623,\n",
       "        0.80403957, 0.80124624, 0.82094256, 0.80783558, 0.77357591,\n",
       "        0.78350763, 0.76190133, 0.75199349, 0.7519696 , 0.74788711,\n",
       "        0.75557464, 0.76782218, 0.75607599, 0.76125675, 0.76505275,\n",
       "        0.77309839, 0.80155662, 0.80881443, 0.82344933, 0.82703048,\n",
       "        0.86627988, 0.8701953 , 0.91004156, 0.94100656, 0.94456381,\n",
       "        0.96027309, 0.98307311, 1.        , 0.98517407, 0.92837702,\n",
       "        0.97493196, 1.01313088, 1.01305926, 1.0630282 , 1.09239367]),\n",
       " array([0.57670824, 0.57596814, 0.58816789, 0.58387054, 0.57821226,\n",
       "        0.5686387 , 0.56906842, 0.67380508, 0.67225326, 0.74344652,\n",
       "        0.72542136, 0.70873323, 0.70897199, 0.71665952, 0.71303058,\n",
       "        0.72453802, 0.72067039, 0.74726643, 0.76006303, 0.7826243 ,\n",
       "        0.78966718, 0.8090054 , 0.78778108, 0.79859623, 0.80403957,\n",
       "        0.80124624, 0.82094256, 0.80783558, 0.77357591, 0.78350763,\n",
       "        0.76190133, 0.75199349, 0.7519696 , 0.74788711, 0.75557464,\n",
       "        0.76782218, 0.75607599, 0.76125675, 0.76505275, 0.77309839,\n",
       "        0.80155662, 0.80881443, 0.82344933, 0.82703048, 0.86627988,\n",
       "        0.8701953 , 0.91004156, 0.94100656, 0.94456381, 0.96027309,\n",
       "        0.98307311, 1.        , 0.98517407, 0.92837702, 0.97493196,\n",
       "        1.01313088, 1.01305926, 1.0630282 , 1.09239367, 1.14825958]),\n",
       " array([0.57596814, 0.58816789, 0.58387054, 0.57821226, 0.5686387 ,\n",
       "        0.56906842, 0.67380508, 0.67225326, 0.74344652, 0.72542136,\n",
       "        0.70873323, 0.70897199, 0.71665952, 0.71303058, 0.72453802,\n",
       "        0.72067039, 0.74726643, 0.76006303, 0.7826243 , 0.78966718,\n",
       "        0.8090054 , 0.78778108, 0.79859623, 0.80403957, 0.80124624,\n",
       "        0.82094256, 0.80783558, 0.77357591, 0.78350763, 0.76190133,\n",
       "        0.75199349, 0.7519696 , 0.74788711, 0.75557464, 0.76782218,\n",
       "        0.75607599, 0.76125675, 0.76505275, 0.77309839, 0.80155662,\n",
       "        0.80881443, 0.82344933, 0.82703048, 0.86627988, 0.8701953 ,\n",
       "        0.91004156, 0.94100656, 0.94456381, 0.96027309, 0.98307311,\n",
       "        1.        , 0.98517407, 0.92837702, 0.97493196, 1.01313088,\n",
       "        1.01305926, 1.0630282 , 1.09239367, 1.14825958, 1.11170799]),\n",
       " array([0.58816789, 0.58387054, 0.57821226, 0.5686387 , 0.56906842,\n",
       "        0.67380508, 0.67225326, 0.74344652, 0.72542136, 0.70873323,\n",
       "        0.70897199, 0.71665952, 0.71303058, 0.72453802, 0.72067039,\n",
       "        0.74726643, 0.76006303, 0.7826243 , 0.78966718, 0.8090054 ,\n",
       "        0.78778108, 0.79859623, 0.80403957, 0.80124624, 0.82094256,\n",
       "        0.80783558, 0.77357591, 0.78350763, 0.76190133, 0.75199349,\n",
       "        0.7519696 , 0.74788711, 0.75557464, 0.76782218, 0.75607599,\n",
       "        0.76125675, 0.76505275, 0.77309839, 0.80155662, 0.80881443,\n",
       "        0.82344933, 0.82703048, 0.86627988, 0.8701953 , 0.91004156,\n",
       "        0.94100656, 0.94456381, 0.96027309, 0.98307311, 1.        ,\n",
       "        0.98517407, 0.92837702, 0.97493196, 1.01313088, 1.01305926,\n",
       "        1.0630282 , 1.09239367, 1.14825958, 1.11170799, 1.1396648 ]),\n",
       " array([0.58387054, 0.57821226, 0.5686387 , 0.56906842, 0.67380508,\n",
       "        0.67225326, 0.74344652, 0.72542136, 0.70873323, 0.70897199,\n",
       "        0.71665952, 0.71303058, 0.72453802, 0.72067039, 0.74726643,\n",
       "        0.76006303, 0.7826243 , 0.78966718, 0.8090054 , 0.78778108,\n",
       "        0.79859623, 0.80403957, 0.80124624, 0.82094256, 0.80783558,\n",
       "        0.77357591, 0.78350763, 0.76190133, 0.75199349, 0.7519696 ,\n",
       "        0.74788711, 0.75557464, 0.76782218, 0.75607599, 0.76125675,\n",
       "        0.76505275, 0.77309839, 0.80155662, 0.80881443, 0.82344933,\n",
       "        0.82703048, 0.86627988, 0.8701953 , 0.91004156, 0.94100656,\n",
       "        0.94456381, 0.96027309, 0.98307311, 1.        , 0.98517407,\n",
       "        0.92837702, 0.97493196, 1.01313088, 1.01305926, 1.0630282 ,\n",
       "        1.09239367, 1.14825958, 1.11170799, 1.1396648 , 1.2608509 ]),\n",
       " array([0.57821226, 0.5686387 , 0.56906842, 0.67380508, 0.67225326,\n",
       "        0.74344652, 0.72542136, 0.70873323, 0.70897199, 0.71665952,\n",
       "        0.71303058, 0.72453802, 0.72067039, 0.74726643, 0.76006303,\n",
       "        0.7826243 , 0.78966718, 0.8090054 , 0.78778108, 0.79859623,\n",
       "        0.80403957, 0.80124624, 0.82094256, 0.80783558, 0.77357591,\n",
       "        0.78350763, 0.76190133, 0.75199349, 0.7519696 , 0.74788711,\n",
       "        0.75557464, 0.76782218, 0.75607599, 0.76125675, 0.76505275,\n",
       "        0.77309839, 0.80155662, 0.80881443, 0.82344933, 0.82703048,\n",
       "        0.86627988, 0.8701953 , 0.91004156, 0.94100656, 0.94456381,\n",
       "        0.96027309, 0.98307311, 1.        , 0.98517407, 0.92837702,\n",
       "        0.97493196, 1.01313088, 1.01305926, 1.0630282 , 1.09239367,\n",
       "        1.14825958, 1.11170799, 1.1396648 , 1.2608509 , 1.22623313]),\n",
       " array([0.5686387 , 0.56906842, 0.67380508, 0.67225326, 0.74344652,\n",
       "        0.72542136, 0.70873323, 0.70897199, 0.71665952, 0.71303058,\n",
       "        0.72453802, 0.72067039, 0.74726643, 0.76006303, 0.7826243 ,\n",
       "        0.78966718, 0.8090054 , 0.78778108, 0.79859623, 0.80403957,\n",
       "        0.80124624, 0.82094256, 0.80783558, 0.77357591, 0.78350763,\n",
       "        0.76190133, 0.75199349, 0.7519696 , 0.74788711, 0.75557464,\n",
       "        0.76782218, 0.75607599, 0.76125675, 0.76505275, 0.77309839,\n",
       "        0.80155662, 0.80881443, 0.82344933, 0.82703048, 0.86627988,\n",
       "        0.8701953 , 0.91004156, 0.94100656, 0.94456381, 0.96027309,\n",
       "        0.98307311, 1.        , 0.98517407, 0.92837702, 0.97493196,\n",
       "        1.01313088, 1.01305926, 1.0630282 , 1.09239367, 1.14825958,\n",
       "        1.11170799, 1.1396648 , 1.2608509 , 1.22623313, 1.14026166]),\n",
       " array([0.56906842, 0.67380508, 0.67225326, 0.74344652, 0.72542136,\n",
       "        0.70873323, 0.70897199, 0.71665952, 0.71303058, 0.72453802,\n",
       "        0.72067039, 0.74726643, 0.76006303, 0.7826243 , 0.78966718,\n",
       "        0.8090054 , 0.78778108, 0.79859623, 0.80403957, 0.80124624,\n",
       "        0.82094256, 0.80783558, 0.77357591, 0.78350763, 0.76190133,\n",
       "        0.75199349, 0.7519696 , 0.74788711, 0.75557464, 0.76782218,\n",
       "        0.75607599, 0.76125675, 0.76505275, 0.77309839, 0.80155662,\n",
       "        0.80881443, 0.82344933, 0.82703048, 0.86627988, 0.8701953 ,\n",
       "        0.91004156, 0.94100656, 0.94456381, 0.96027309, 0.98307311,\n",
       "        1.        , 0.98517407, 0.92837702, 0.97493196, 1.01313088,\n",
       "        1.01305926, 1.0630282 , 1.09239367, 1.14825958, 1.11170799,\n",
       "        1.1396648 , 1.2608509 , 1.22623313, 1.14026166, 1.17335144]),\n",
       " array([0.67380508, 0.67225326, 0.74344652, 0.72542136, 0.70873323,\n",
       "        0.70897199, 0.71665952, 0.71303058, 0.72453802, 0.72067039,\n",
       "        0.74726643, 0.76006303, 0.7826243 , 0.78966718, 0.8090054 ,\n",
       "        0.78778108, 0.79859623, 0.80403957, 0.80124624, 0.82094256,\n",
       "        0.80783558, 0.77357591, 0.78350763, 0.76190133, 0.75199349,\n",
       "        0.7519696 , 0.74788711, 0.75557464, 0.76782218, 0.75607599,\n",
       "        0.76125675, 0.76505275, 0.77309839, 0.80155662, 0.80881443,\n",
       "        0.82344933, 0.82703048, 0.86627988, 0.8701953 , 0.91004156,\n",
       "        0.94100656, 0.94456381, 0.96027309, 0.98307311, 1.        ,\n",
       "        0.98517407, 0.92837702, 0.97493196, 1.01313088, 1.01305926,\n",
       "        1.0630282 , 1.09239367, 1.14825958, 1.11170799, 1.1396648 ,\n",
       "        1.2608509 , 1.22623313, 1.14026166, 1.17335144, 1.22740295]),\n",
       " array([0.67225326, 0.74344652, 0.72542136, 0.70873323, 0.70897199,\n",
       "        0.71665952, 0.71303058, 0.72453802, 0.72067039, 0.74726643,\n",
       "        0.76006303, 0.7826243 , 0.78966718, 0.8090054 , 0.78778108,\n",
       "        0.79859623, 0.80403957, 0.80124624, 0.82094256, 0.80783558,\n",
       "        0.77357591, 0.78350763, 0.76190133, 0.75199349, 0.7519696 ,\n",
       "        0.74788711, 0.75557464, 0.76782218, 0.75607599, 0.76125675,\n",
       "        0.76505275, 0.77309839, 0.80155662, 0.80881443, 0.82344933,\n",
       "        0.82703048, 0.86627988, 0.8701953 , 0.91004156, 0.94100656,\n",
       "        0.94456381, 0.96027309, 0.98307311, 1.        , 0.98517407,\n",
       "        0.92837702, 0.97493196, 1.01313088, 1.01305926, 1.0630282 ,\n",
       "        1.09239367, 1.14825958, 1.11170799, 1.1396648 , 1.2608509 ,\n",
       "        1.22623313, 1.14026166, 1.17335144, 1.22740295, 1.32681568]),\n",
       " array([0.74344652, 0.72542136, 0.70873323, 0.70897199, 0.71665952,\n",
       "        0.71303058, 0.72453802, 0.72067039, 0.74726643, 0.76006303,\n",
       "        0.7826243 , 0.78966718, 0.8090054 , 0.78778108, 0.79859623,\n",
       "        0.80403957, 0.80124624, 0.82094256, 0.80783558, 0.77357591,\n",
       "        0.78350763, 0.76190133, 0.75199349, 0.7519696 , 0.74788711,\n",
       "        0.75557464, 0.76782218, 0.75607599, 0.76125675, 0.76505275,\n",
       "        0.77309839, 0.80155662, 0.80881443, 0.82344933, 0.82703048,\n",
       "        0.86627988, 0.8701953 , 0.91004156, 0.94100656, 0.94456381,\n",
       "        0.96027309, 0.98307311, 1.        , 0.98517407, 0.92837702,\n",
       "        0.97493196, 1.01313088, 1.01305926, 1.0630282 , 1.09239367,\n",
       "        1.14825958, 1.11170799, 1.1396648 , 1.2608509 , 1.22623313,\n",
       "        1.14026166, 1.17335144, 1.22740295, 1.32681568, 1.30857566]),\n",
       " array([0.72542136, 0.70873323, 0.70897199, 0.71665952, 0.71303058,\n",
       "        0.72453802, 0.72067039, 0.74726643, 0.76006303, 0.7826243 ,\n",
       "        0.78966718, 0.8090054 , 0.78778108, 0.79859623, 0.80403957,\n",
       "        0.80124624, 0.82094256, 0.80783558, 0.77357591, 0.78350763,\n",
       "        0.76190133, 0.75199349, 0.7519696 , 0.74788711, 0.75557464,\n",
       "        0.76782218, 0.75607599, 0.76125675, 0.76505275, 0.77309839,\n",
       "        0.80155662, 0.80881443, 0.82344933, 0.82703048, 0.86627988,\n",
       "        0.8701953 , 0.91004156, 0.94100656, 0.94456381, 0.96027309,\n",
       "        0.98307311, 1.        , 0.98517407, 0.92837702, 0.97493196,\n",
       "        1.01313088, 1.01305926, 1.0630282 , 1.09239367, 1.14825958,\n",
       "        1.11170799, 1.1396648 , 1.2608509 , 1.22623313, 1.14026166,\n",
       "        1.17335144, 1.22740295, 1.32681568, 1.30857566, 1.32380749]),\n",
       " array([0.70873323, 0.70897199, 0.71665952, 0.71303058, 0.72453802,\n",
       "        0.72067039, 0.74726643, 0.76006303, 0.7826243 , 0.78966718,\n",
       "        0.8090054 , 0.78778108, 0.79859623, 0.80403957, 0.80124624,\n",
       "        0.82094256, 0.80783558, 0.77357591, 0.78350763, 0.76190133,\n",
       "        0.75199349, 0.7519696 , 0.74788711, 0.75557464, 0.76782218,\n",
       "        0.75607599, 0.76125675, 0.76505275, 0.77309839, 0.80155662,\n",
       "        0.80881443, 0.82344933, 0.82703048, 0.86627988, 0.8701953 ,\n",
       "        0.91004156, 0.94100656, 0.94456381, 0.96027309, 0.98307311,\n",
       "        1.        , 0.98517407, 0.92837702, 0.97493196, 1.01313088,\n",
       "        1.01305926, 1.0630282 , 1.09239367, 1.14825958, 1.11170799,\n",
       "        1.1396648 , 1.2608509 , 1.22623313, 1.14026166, 1.17335144,\n",
       "        1.22740295, 1.32681568, 1.30857566, 1.32380749, 1.25543138]),\n",
       " array([0.70897199, 0.71665952, 0.71303058, 0.72453802, 0.72067039,\n",
       "        0.74726643, 0.76006303, 0.7826243 , 0.78966718, 0.8090054 ,\n",
       "        0.78778108, 0.79859623, 0.80403957, 0.80124624, 0.82094256,\n",
       "        0.80783558, 0.77357591, 0.78350763, 0.76190133, 0.75199349,\n",
       "        0.7519696 , 0.74788711, 0.75557464, 0.76782218, 0.75607599,\n",
       "        0.76125675, 0.76505275, 0.77309839, 0.80155662, 0.80881443,\n",
       "        0.82344933, 0.82703048, 0.86627988, 0.8701953 , 0.91004156,\n",
       "        0.94100656, 0.94456381, 0.96027309, 0.98307311, 1.        ,\n",
       "        0.98517407, 0.92837702, 0.97493196, 1.01313088, 1.01305926,\n",
       "        1.0630282 , 1.09239367, 1.14825958, 1.11170799, 1.1396648 ,\n",
       "        1.2608509 , 1.22623313, 1.14026166, 1.17335144, 1.22740295,\n",
       "        1.32681568, 1.30857566, 1.32380749, 1.25543138, 1.31869835]),\n",
       " array([0.71665952, 0.71303058, 0.72453802, 0.72067039, 0.74726643,\n",
       "        0.76006303, 0.7826243 , 0.78966718, 0.8090054 , 0.78778108,\n",
       "        0.79859623, 0.80403957, 0.80124624, 0.82094256, 0.80783558,\n",
       "        0.77357591, 0.78350763, 0.76190133, 0.75199349, 0.7519696 ,\n",
       "        0.74788711, 0.75557464, 0.76782218, 0.75607599, 0.76125675,\n",
       "        0.76505275, 0.77309839, 0.80155662, 0.80881443, 0.82344933,\n",
       "        0.82703048, 0.86627988, 0.8701953 , 0.91004156, 0.94100656,\n",
       "        0.94456381, 0.96027309, 0.98307311, 1.        , 0.98517407,\n",
       "        0.92837702, 0.97493196, 1.01313088, 1.01305926, 1.0630282 ,\n",
       "        1.09239367, 1.14825958, 1.11170799, 1.1396648 , 1.2608509 ,\n",
       "        1.22623313, 1.14026166, 1.17335144, 1.22740295, 1.32681568,\n",
       "        1.30857566, 1.32380749, 1.25543138, 1.31869835, 1.33588789]),\n",
       " array([0.71303058, 0.72453802, 0.72067039, 0.74726643, 0.76006303,\n",
       "        0.7826243 , 0.78966718, 0.8090054 , 0.78778108, 0.79859623,\n",
       "        0.80403957, 0.80124624, 0.82094256, 0.80783558, 0.77357591,\n",
       "        0.78350763, 0.76190133, 0.75199349, 0.7519696 , 0.74788711,\n",
       "        0.75557464, 0.76782218, 0.75607599, 0.76125675, 0.76505275,\n",
       "        0.77309839, 0.80155662, 0.80881443, 0.82344933, 0.82703048,\n",
       "        0.86627988, 0.8701953 , 0.91004156, 0.94100656, 0.94456381,\n",
       "        0.96027309, 0.98307311, 1.        , 0.98517407, 0.92837702,\n",
       "        0.97493196, 1.01313088, 1.01305926, 1.0630282 , 1.09239367,\n",
       "        1.14825958, 1.11170799, 1.1396648 , 1.2608509 , 1.22623313,\n",
       "        1.14026166, 1.17335144, 1.22740295, 1.32681568, 1.30857566,\n",
       "        1.32380749, 1.25543138, 1.31869835, 1.33588789, 1.47132689]),\n",
       " array([0.72453802, 0.72067039, 0.74726643, 0.76006303, 0.7826243 ,\n",
       "        0.78966718, 0.8090054 , 0.78778108, 0.79859623, 0.80403957,\n",
       "        0.80124624, 0.82094256, 0.80783558, 0.77357591, 0.78350763,\n",
       "        0.76190133, 0.75199349, 0.7519696 , 0.74788711, 0.75557464,\n",
       "        0.76782218, 0.75607599, 0.76125675, 0.76505275, 0.77309839,\n",
       "        0.80155662, 0.80881443, 0.82344933, 0.82703048, 0.86627988,\n",
       "        0.8701953 , 0.91004156, 0.94100656, 0.94456381, 0.96027309,\n",
       "        0.98307311, 1.        , 0.98517407, 0.92837702, 0.97493196,\n",
       "        1.01313088, 1.01305926, 1.0630282 , 1.09239367, 1.14825958,\n",
       "        1.11170799, 1.1396648 , 1.2608509 , 1.22623313, 1.14026166,\n",
       "        1.17335144, 1.22740295, 1.32681568, 1.30857566, 1.32380749,\n",
       "        1.25543138, 1.31869835, 1.33588789, 1.47132689, 1.48942367])]"
      ]
     },
     "execution_count": 62,
     "metadata": {},
     "output_type": "execute_result"
    }
   ],
   "execution_count": 62
  },
  {
   "metadata": {},
   "cell_type": "markdown",
   "source": "<h4> Predicitng Stock Price"
  },
  {
   "metadata": {
    "ExecuteTime": {
     "end_time": "2024-07-05T03:52:49.702574Z",
     "start_time": "2024-07-05T03:52:48.165437Z"
    }
   },
   "cell_type": "code",
   "source": [
    "predicted_stock_price = model.predict(X_test)\n",
    "predicted_stock_price = normalizer.inverse_transform(predicted_stock_price)\n",
    "predicted_stock_price"
   ],
   "outputs": [
    {
     "name": "stdout",
     "output_type": "stream",
     "text": [
      "\u001B[1m1/1\u001B[0m \u001B[32m━━━━━━━━━━━━━━━━━━━━\u001B[0m\u001B[37m\u001B[0m \u001B[1m1s\u001B[0m 976ms/step\n"
     ]
    },
    {
     "data": {
      "text/plain": [
       "array([[402.55786],\n",
       "       [424.81335],\n",
       "       [435.73538],\n",
       "       [436.097  ],\n",
       "       [456.42633],\n",
       "       [466.48615],\n",
       "       [487.90753],\n",
       "       [474.37808],\n",
       "       [487.7409 ],\n",
       "       [524.9287 ],\n",
       "       [514.0254 ],\n",
       "       [487.35623],\n",
       "       [500.86353],\n",
       "       [514.2039 ],\n",
       "       [544.6865 ],\n",
       "       [540.9967 ],\n",
       "       [550.1843 ],\n",
       "       [527.773  ],\n",
       "       [549.8128 ],\n",
       "       [550.2009 ],\n",
       "       [588.6502 ],\n",
       "       [594.3223 ]], dtype=float32)"
      ]
     },
     "execution_count": 50,
     "metadata": {},
     "output_type": "execute_result"
    }
   ],
   "execution_count": 50
  },
  {
   "metadata": {},
   "cell_type": "markdown",
   "source": [
    "<h5>Visualize the results by plotting the actual stock price and then plotting the\n",
    "predicted stock price"
   ]
  },
  {
   "metadata": {
    "ExecuteTime": {
     "end_time": "2024-07-05T03:54:38.266653Z",
     "start_time": "2024-07-05T03:54:36.905863Z"
    }
   },
   "cell_type": "code",
   "source": [
    "plt.plot(actual_stock_price, color = 'green', label = 'Real Tesla Stock Price', ls='-')\n",
    "plt.plot(predicted_stock_price, color = 'red', label = 'Predicted Tesla Stock Price', ls='--')\n",
    "plt.title('Predicted Stock Price')\n",
    "plt.xlabel('Time in days')\n",
    "plt.ylabel('Real Stock Price')\n",
    "plt.legend()\n",
    "plt.show()"
   ],
   "outputs": [
    {
     "data": {
      "text/plain": [
       "<Figure size 640x480 with 1 Axes>"
      ],
      "image/png": "[encoded data removed]"
     },
     "metadata": {},
     "output_type": "display_data"
    }
   ],
   "execution_count": 51
  },
  {
   "metadata": {},
   "cell_type": "markdown",
   "source": "<h4> Voila! Our model was able to capture trend significantly </h4>"
  }
 ],
 "metadata": {
  "kernelspec": {
   "display_name": "Python 3",
   "language": "python",
   "name": "python3"
  },
  "language_info": {
   "codemirror_mode": {
    "name": "ipython",
    "version": 2
   },
   "file_extension": ".py",
   "mimetype": "text/x-python",
   "name": "python",
   "nbconvert_exporter": "python",
   "pygments_lexer": "ipython2",
   "version": "2.7.6"
  }
 },
 "nbformat": 4,
 "nbformat_minor": 0
}
